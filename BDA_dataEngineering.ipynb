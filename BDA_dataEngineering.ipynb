{
  "nbformat": 4,
  "nbformat_minor": 0,
  "metadata": {
    "colab": {
      "provenance": [],
      "gpuType": "T4"
    },
    "kernelspec": {
      "name": "python3",
      "display_name": "Python 3"
    },
    "language_info": {
      "name": "python"
    },
    "accelerator": "GPU"
  },
  "cells": [
    {
      "cell_type": "code",
      "execution_count": 1,
      "metadata": {
        "id": "umU6lvI_zOeo"
      },
      "outputs": [],
      "source": [
        "! pip install pyspark -q"
      ]
    },
    {
      "cell_type": "code",
      "source": [
        "from pyspark import __version__\n",
        "\n",
        "print(f\"PySpark version: {__version__}\")"
      ],
      "metadata": {
        "colab": {
          "base_uri": "https://localhost:8080/"
        },
        "id": "HSMz3-skFhsx",
        "outputId": "8b4be7b5-28ef-4ed3-e3b8-7118bdd815a6"
      },
      "execution_count": 2,
      "outputs": [
        {
          "output_type": "stream",
          "name": "stdout",
          "text": [
            "PySpark version: 3.5.3\n"
          ]
        }
      ]
    },
    {
      "cell_type": "code",
      "source": [
        "from pyspark.sql import SparkSession\n",
        "from pyspark import SparkContext\n",
        "\n",
        "sc = SparkContext.getOrCreate()\n",
        "\n",
        "spark = SparkSession\\\n",
        "    .builder\\\n",
        "    .config(\"spark.sql.legacy.timeParserPolicy\", \"LEGACY\") \\\n",
        "    .appName('BDA_Project')\\\n",
        "    .getOrCreate()"
      ],
      "metadata": {
        "id": "1Xrs7EmCzSr5"
      },
      "execution_count": 3,
      "outputs": []
    },
    {
      "cell_type": "code",
      "source": [
        "# Laoding the data\n",
        "\n",
        "data_path = \"/content/itineraries_random_2M.csv\"\n",
        "\n",
        "df_raw = spark.read.option(\"header\", \"true\").csv(data_path)\n",
        "df_raw.show(5)"
      ],
      "metadata": {
        "colab": {
          "base_uri": "https://localhost:8080/"
        },
        "id": "geyEnrW20i8b",
        "outputId": "2210b5aa-6bed-4643-da8f-0260ae0ab9b6"
      },
      "execution_count": 4,
      "outputs": [
        {
          "output_type": "stream",
          "name": "stdout",
          "text": [
            "+--------------------+----------+----------+---------------+------------------+-------------+--------------+-----------+--------------+------------+---------+--------+---------+--------------+-------------------+---------------------------------+------------------------+-------------------------------+----------------------+--------------------------+----------------------------+-------------------+-------------------+----------------------------+-------------------------+----------------+-----------------+\n",
            "|               legId|searchDate|flightDate|startingAirport|destinationAirport|fareBasisCode|travelDuration|elapsedDays|isBasicEconomy|isRefundable|isNonStop|baseFare|totalFare|seatsRemaining|totalTravelDistance|segmentsDepartureTimeEpochSeconds|segmentsDepartureTimeRaw|segmentsArrivalTimeEpochSeconds|segmentsArrivalTimeRaw|segmentsArrivalAirportCode|segmentsDepartureAirportCode|segmentsAirlineName|segmentsAirlineCode|segmentsEquipmentDescription|segmentsDurationInSeconds|segmentsDistance|segmentsCabinCode|\n",
            "+--------------------+----------+----------+---------------+------------------+-------------+--------------+-----------+--------------+------------+---------+--------+---------+--------------+-------------------+---------------------------------+------------------------+-------------------------------+----------------------+--------------------------+----------------------------+-------------------+-------------------+----------------------------+-------------------------+----------------+-----------------+\n",
            "|620cd51404373b9bd...|2022-05-29|2022-06-18|            LAX|               ATL|          Y0N|       PT4H19M|          0|         False|       False|     True|  943.26|  1028.61|             7|               1943|                       1655591400|    2022-06-18T15:30:...|                     1655606940|  2022-06-18T22:49:...|                       ATL|                         LAX|              Delta|                 DL|                 Airbus A321|                    15540|            1943|            coach|\n",
            "|8622d132e890b398c...|2022-05-03|2022-06-24|            CLT|               LAX|     MA0OA0MQ|       PT8H10M|          0|         False|       False|    False|  479.07|   537.10|             9|               2171|             1656073800||16560...|    2022-06-24T08:30:...|           1656078240||16561...|  2022-06-24T09:44:...|                  ATL||LAX|                    CLT||ATL|       Delta||Delta|             DL||DL|        Boeing 717||Airbu...|              4440||16680|       228||1943|     coach||coach|\n",
            "|6f419788769ddb380...|2022-05-02|2022-06-30|            LGA|               ATL|     LAVQA0ML|      PT11H54M|          1|         False|       False|    False|  328.38|   382.21|             9|               1700|             1656633540||16566...|    2022-06-30T19:59:...|           1656645360||16566...|  2022-06-30T23:16:...|                  MIA||ATL|                    LGA||MIA|       Delta||Delta|             DL||DL|        Boeing 737-800||B...|              11820||6780|       1104||596|     coach||coach|\n",
            "|41f3cd0a63603895e...|2022-06-10|2022-08-04|            LAX|               SFO|     MH7OASMN|       PT1H20M|          0|         False|       False|     True|  189.77|   218.60|             7|                339|                       1659664800|    2022-08-04T19:00:...|                     1659669600|  2022-08-04T20:20:...|                       SFO|                         LAX|    Alaska Airlines|                 AS|                 Embraer 175|                     4800|             339|            coach|\n",
            "|7f5d8684b672dd359...|2022-06-24|2022-07-20|            LGA|               DFW|     LAVQA0BQ|       PT6H41M|          0|          True|       False|    False|  171.16|   207.60|             9|               1487|             1658327700||16583...|    2022-07-20T10:35:...|           1658337240||16583...|  2022-07-20T13:14:...|                  ATL||DFW|                    LGA||ATL|       Delta||Delta|             DL||DL|        Airbus A320||Airb...|               9540||8460|        762||725|     coach||coach|\n",
            "+--------------------+----------+----------+---------------+------------------+-------------+--------------+-----------+--------------+------------+---------+--------+---------+--------------+-------------------+---------------------------------+------------------------+-------------------------------+----------------------+--------------------------+----------------------------+-------------------+-------------------+----------------------------+-------------------------+----------------+-----------------+\n",
            "only showing top 5 rows\n",
            "\n"
          ]
        }
      ]
    },
    {
      "cell_type": "code",
      "source": [
        "# Randomly sampled 5% of the data\n",
        "df_sampled = df_raw.sample(withReplacement=False, fraction=0.05, seed=42)\n",
        "df_sampled.show()"
      ],
      "metadata": {
        "colab": {
          "base_uri": "https://localhost:8080/"
        },
        "id": "aL66-HMx0qsL",
        "outputId": "48666ec4-f82f-45a4-ce3a-c34524128368"
      },
      "execution_count": 5,
      "outputs": [
        {
          "output_type": "stream",
          "name": "stdout",
          "text": [
            "+--------------------+----------+----------+---------------+------------------+-------------+--------------+-----------+--------------+------------+---------+--------+---------+--------------+-------------------+---------------------------------+------------------------+-------------------------------+----------------------+--------------------------+----------------------------+--------------------+-------------------+----------------------------+-------------------------+------------------+--------------------+\n",
            "|               legId|searchDate|flightDate|startingAirport|destinationAirport|fareBasisCode|travelDuration|elapsedDays|isBasicEconomy|isRefundable|isNonStop|baseFare|totalFare|seatsRemaining|totalTravelDistance|segmentsDepartureTimeEpochSeconds|segmentsDepartureTimeRaw|segmentsArrivalTimeEpochSeconds|segmentsArrivalTimeRaw|segmentsArrivalAirportCode|segmentsDepartureAirportCode| segmentsAirlineName|segmentsAirlineCode|segmentsEquipmentDescription|segmentsDurationInSeconds|  segmentsDistance|   segmentsCabinCode|\n",
            "+--------------------+----------+----------+---------------+------------------+-------------+--------------+-----------+--------------+------------+---------+--------+---------+--------------+-------------------+---------------------------------+------------------------+-------------------------------+----------------------+--------------------------+----------------------------+--------------------+-------------------+----------------------------+-------------------------+------------------+--------------------+\n",
            "|8ceba9d9fccbd3f42...|2022-04-19|2022-06-02|            DEN|               MIA|     QAUNA0MC|       PT8H49M|          0|         False|       False|    False|  316.28|   363.60|             9|               2295|             1654152900||16541...|    2022-06-02T00:55:...|           1654162440||16541...|  2022-06-02T05:34:...|                  DTW||MIA|                    DEN||DTW|        Delta||Delta|             DL||DL|        Airbus A321||Boei...|              9540||10740|        1142||1153|        coach||coach|\n",
            "|e8d861b945994a6d9...|2022-04-25|2022-05-29|            DFW|               SFO|     BA7OA0MC|        PT7H9M|          0|         False|       False|    False|  581.40|   648.61|             9|               1591|             1653868200||16538...|    2022-05-29T18:50:...|           1653878280||16538...|  2022-05-29T20:38:...|                  SLC||SFO|                    DFW||SLC|        Delta||Delta|             DL||DL|                          |||              10080||7320|          992||599|        coach||coach|\n",
            "|4bec4e441590af63e...|2022-06-21|2022-07-29|            DTW|               DFW|     V7AHZNN1|       PT2H44M|          0|         False|       False|     True|  293.02|   329.60|             7|                995|                       1659087300|    2022-07-29T05:35:...|                     1659097140|  2022-07-29T07:19:...|                       DFW|                         DTW|   American Airlines|                 AA|              Boeing 737-800|                     9840|               995|               coach|\n",
            "|43390c00946af5d39...|2022-05-04|2022-06-23|            CLT|               DFW|     V3AWZNN1|       PT13H8M|          0|         False|       False|    False|  522.74|   598.65|             3|                994|             1655989200||16559...|    2022-06-23T09:00:...|           1655993640||16560...|  2022-06-23T09:14:...|        BNA||OWB||STL||DFW|          CLT||BNA||OWB||STL|American Airlines...|     AA||9K||9K||AA|        Airbus A321||Tecn...|     4440||3660||4620|...|329||116||187||549|coach||coach||coa...|\n",
            "|df47512948ef4ac2f...|2022-05-12|2022-05-16|            DEN|               ORD|     K0AIZNN1|       PT8H45M|          0|         False|       False|    False|  366.51|   416.10|             4|               1938|             1652731680||16527...|    2022-05-16T14:08:...|           1652743560||16527...|  2022-05-16T19:26:...|                  CLT||ORD|                    DEN||CLT|American Airlines...|             AA||AA|        Boeing 737-800||B...|              11880||7680|         1346||592|        coach||coach|\n",
            "|d070c6b5d7b11fefb...|2022-05-12|2022-07-11|            MIA|               LGA|     GUAHZNN1|       PT7H45M|          0|         False|       False|    False|  194.42|   232.60|             7|               1144|             1657535160||16575...|    2022-07-11T06:26:...|           1657544400||16575...|  2022-07-11T09:00:...|                  DCA||LGA|                    MIA||DCA|American Airlines...|             AA||AA|        Airbus A321||Airb...|               9240||4260|          923||221|        coach||coach|\n",
            "|58038f8608c78d4b8...|2022-04-29|2022-05-26|            PHL|               MIA|     SI4ABEL1|      PT14H32M|          0|         False|       False|    False|  319.07|   376.70|             7|               1569|             1653571320||16535...|    2022-05-26T09:22:...|           1653577080||16535...|  2022-05-26T10:58:...|             BOS||JFK||MIA|               PHL||BOS||JFK|JetBlue Airways||...|         B6||B6||B6|        Embraer 190||Airb...|        5760||4620||12240|    280||185||1104| coach||coach||coach|\n",
            "|151271a32a5da018d...|2022-06-03|2022-06-17|            SFO|               EWR|     BH0OASMN|       PT5H50M|          0|         False|       False|     True|  682.79|   748.60|             7|               2566|                       1655476800|    2022-06-17T07:40:...|                     1655497800|  2022-06-17T16:30:...|                       EWR|                         SFO|     Alaska Airlines|                 AS|              Boeing 737-900|                    21000|              2566|               coach|\n",
            "|ebfd3129b04886c8e...|2022-06-16|2022-06-22|            LAX|               ORD|     V0AIZNN1|        PT4H8M|          0|         False|       False|     True|  350.70|   391.60|             2|               1745|                       1655940900|    2022-06-22T16:35:...|                     1655955780|  2022-06-22T22:43:...|                       ORD|                         LAX|   American Airlines|                 AA|              Boeing 737-800|                    14880|              1745|               coach|\n",
            "|5a2dbc3013fc72d09...|2022-05-08|2022-05-28|            BOS|               LAX|     SAG4JHDN|       PT9H22M|          0|         False|       False|    False|  407.44|   461.60|             7|               2643|             1653735600||16537...|    2022-05-28T07:00:...|           1653740640||16537...|  2022-05-28T08:24:...|                  EWR||LAX|                    BOS||EWR|      United||United|             UA||UA|        Airbus A320||BOEI...|              5040||21120|         185||2458|        coach||coach|\n",
            "|2a97e1bcd1f87a81d...|2022-06-12|2022-08-11|            JFK|               LAX|     IVATZNJC|       PT5H54M|          0|         False|       False|     True|  636.28|   698.60|             2|               2458|                       1660257900|    2022-08-11T18:45:...|                     1660279140|  2022-08-11T21:39:...|                       LAX|                         JFK|   American Airlines|                 AA|        AIRBUS INDUSTRIE ...|                    21240|              2458|            business|\n",
            "|177baa9303563a8e2...|2022-04-18|2022-06-07|            DEN|               ATL|     LAUOA0MQ|        PT3H8M|          0|         False|       False|     True|  171.16|   198.60|             9|               1207|                       1654645140|    2022-06-07T17:39:...|                     1654656420|  2022-06-07T22:47:...|                       ATL|                         DEN|               Delta|                 DL|                 Airbus A321|                    11280|              1207|               coach|\n",
            "|5e82230a2de1cdc3d...|2022-05-29|2022-06-28|            LAX|               LGA|     HAA0OKEN|       PT8H39M|          1|         False|       False|    False|  413.95|   468.60|             2|               2758|             1656485820||16565...|    2022-06-28T23:57:...|           1656496500||16565...|  2022-06-29T04:55:...|                  IAH||LGA|                    ONT||IAH|      United||United|             UA||UA|        Boeing 737-800||A...|             10680||12660|        1339||1419|        coach||coach|\n",
            "|432dd550cb4357d76...|2022-04-29|2022-06-09|            PHL|               IAD|     KAUOA0MQ|       PT4H41M|          0|         False|       False|    False|  471.62|   530.59|             9|                838|             1654794000||16548...|    2022-06-09T13:00:...|           1654800300||16548...|  2022-06-09T14:45:...|                  DTW||IAD|                    PHL||DTW|        Delta||Delta|             DL||DL|        Canadair Regional...|               6300||5580|          447||391|        coach||coach|\n",
            "|e11bbc97facf5bf70...|2022-04-29|2022-05-02|            OAK|               LGA|     SH3OAJMN|      PT10H41M|          1|         False|       False|    False|  532.10|   600.11|             2|               3005|             1651548900||16515...|    2022-05-02T20:35:...|           1651554900||16515...|  2022-05-02T22:15:...|             PDX||ORD||LGA|               OAK||PDX||ORD|Alaska Airlines||...|         AS||AS||UA|        Embraer 175||Boei...|        6000||14700||8160|    543||1742||720| coach||coach||coach|\n",
            "|0678cab8deaf5d3e0...|2022-04-19|2022-06-10|            MIA|               SFO|     M7AHZNN1|       PT8H36M|          0|         False|       False|    False|  361.86|   412.60|             7|               2583|             1654853100||16548...|    2022-06-10T05:25:...|           1654864140||16548...|  2022-06-10T07:29:...|                  DFW||SFO|                    MIA||DFW|American Airlines...|             AA||AA|        Airbus A321||Airb...|             11040||13080|        1115||1468|        coach||coach|\n",
            "|7e20f482ed74975b9...|2022-06-01|2022-06-09|            LGA|               PHL|     G7AJZNN3|       PT7H20M|          0|         False|       False|    False|  289.30|   334.60|             7|               1392|             1654785000||16548...|    2022-06-09T10:30:...|           1654794360||16548...|  2022-06-09T12:06:...|                  ORD||PHL|                    LGA||ORD|American Airlines...|             AA||AA|        Boeing 737-800||A...|               9360||6900|          720||672|        coach||coach|\n",
            "|5c4fd8b4fcc650b3e...|2022-05-22|2022-06-22|            OAK|               LAX|     VH4OASMN|       PT10H5M|          0|         False|       False|    False|  351.63|   407.20|             7|               1630|             1655928000||16559...|    2022-06-22T13:00:...|           1655935200||16559...|  2022-06-22T15:00:...|                  SEA||ONT|                    OAK||SEA|Alaska Airlines||...|             AS||AS|        Boeing 737-900||B...|               7200||9300|          672||958|        coach||coach|\n",
            "|60d275d00df44bed4...|2022-06-12|2022-06-17|            PHL|               BOS|     UAA0ADEN|       PT3H24M|          0|         False|       False|    False|  416.74|   471.60|             5|                282|             1655488920||16554...|    2022-06-17T14:02:...|           1655492400||16555...|  2022-06-17T15:00:...|                  EWR||BOS|                    PHL||EWR|      United||United|             UA||UA|            ||Boeing 757-200|               3480||5160|           97||185|        coach||coach|\n",
            "|0dfd5dc02e38966ec...|2022-06-13|2022-07-19|            BOS|               OAK|     HH0OASMN|         PT12H|          0|         False|       False|    False|  733.02|   811.60|             7|               3161|             1658244600||16582...|    2022-07-19T11:30:...|           1658267040||16582...|  2022-07-19T14:44:...|                  SEA||OAK|                    BOS||SEA|Alaska Airlines||...|             AS||AS|        Boeing 737-800||B...|              22440||7500|         2489||672|        coach||coach|\n",
            "+--------------------+----------+----------+---------------+------------------+-------------+--------------+-----------+--------------+------------+---------+--------+---------+--------------+-------------------+---------------------------------+------------------------+-------------------------------+----------------------+--------------------------+----------------------------+--------------------+-------------------+----------------------------+-------------------------+------------------+--------------------+\n",
            "only showing top 20 rows\n",
            "\n"
          ]
        }
      ]
    },
    {
      "cell_type": "code",
      "source": [
        "df_sampled.printSchema()"
      ],
      "metadata": {
        "colab": {
          "base_uri": "https://localhost:8080/"
        },
        "id": "dxH0nBYT1ibJ",
        "outputId": "2b9618ba-a25d-4a23-a9c0-fa8811c12b6d"
      },
      "execution_count": 6,
      "outputs": [
        {
          "output_type": "stream",
          "name": "stdout",
          "text": [
            "root\n",
            " |-- legId: string (nullable = true)\n",
            " |-- searchDate: string (nullable = true)\n",
            " |-- flightDate: string (nullable = true)\n",
            " |-- startingAirport: string (nullable = true)\n",
            " |-- destinationAirport: string (nullable = true)\n",
            " |-- fareBasisCode: string (nullable = true)\n",
            " |-- travelDuration: string (nullable = true)\n",
            " |-- elapsedDays: string (nullable = true)\n",
            " |-- isBasicEconomy: string (nullable = true)\n",
            " |-- isRefundable: string (nullable = true)\n",
            " |-- isNonStop: string (nullable = true)\n",
            " |-- baseFare: string (nullable = true)\n",
            " |-- totalFare: string (nullable = true)\n",
            " |-- seatsRemaining: string (nullable = true)\n",
            " |-- totalTravelDistance: string (nullable = true)\n",
            " |-- segmentsDepartureTimeEpochSeconds: string (nullable = true)\n",
            " |-- segmentsDepartureTimeRaw: string (nullable = true)\n",
            " |-- segmentsArrivalTimeEpochSeconds: string (nullable = true)\n",
            " |-- segmentsArrivalTimeRaw: string (nullable = true)\n",
            " |-- segmentsArrivalAirportCode: string (nullable = true)\n",
            " |-- segmentsDepartureAirportCode: string (nullable = true)\n",
            " |-- segmentsAirlineName: string (nullable = true)\n",
            " |-- segmentsAirlineCode: string (nullable = true)\n",
            " |-- segmentsEquipmentDescription: string (nullable = true)\n",
            " |-- segmentsDurationInSeconds: string (nullable = true)\n",
            " |-- segmentsDistance: string (nullable = true)\n",
            " |-- segmentsCabinCode: string (nullable = true)\n",
            "\n"
          ]
        }
      ]
    },
    {
      "cell_type": "code",
      "source": [
        "from pyspark.sql.functions import col\n",
        "\n",
        "def drop_epoch_columns(df_sampled):\n",
        "    \"\"\"Drops columns containing 'Epoch' in their names.\"\"\"\n",
        "    columns_to_drop = [col_name for col_name in df_sampled.columns if \"Epoch\" in col_name]\n",
        "    if columns_to_drop:  # Check if any columns need to be dropped\n",
        "        df_sampled = df_sampled.drop(*columns_to_drop)\n",
        "        print(f\"Dropped columns: {columns_to_drop}\")\n",
        "    else:\n",
        "        print(\"No columns with 'Epoch' found.\")\n",
        "    return df_sampled"
      ],
      "metadata": {
        "id": "bx42NS9o1o8h"
      },
      "execution_count": 7,
      "outputs": []
    },
    {
      "cell_type": "code",
      "source": [
        "df_sampled = drop_epoch_columns(df_sampled)"
      ],
      "metadata": {
        "colab": {
          "base_uri": "https://localhost:8080/"
        },
        "id": "3FlWt2BZ21ll",
        "outputId": "85c53060-8921-4bde-bb76-e328e0a6f3a8"
      },
      "execution_count": 8,
      "outputs": [
        {
          "output_type": "stream",
          "name": "stdout",
          "text": [
            "Dropped columns: ['segmentsDepartureTimeEpochSeconds', 'segmentsArrivalTimeEpochSeconds']\n"
          ]
        }
      ]
    },
    {
      "cell_type": "code",
      "source": [
        "# dropping unnecessory columns\n",
        "columns_to_drop = [\"segmentsAirlineCode\",\"segmentsDepartureTimeRaw\", \"segmentsArrivalTimeRaw\",\"legId\",\"fareBasisCode\",\"segmentsEquipmentDescription\",\"segmentsDurationInSeconds\",\"segmentsDistance\"]\n",
        "df_sampled = df_sampled.drop(*columns_to_drop)"
      ],
      "metadata": {
        "id": "1p_JjiQx3bvY"
      },
      "execution_count": 9,
      "outputs": []
    },
    {
      "cell_type": "code",
      "source": [
        "from pyspark.sql.functions import col, to_date, when, regexp_replace, unix_timestamp, from_unixtime, to_timestamp\n",
        "\n",
        "def convert_data_types(df_sampled):\n",
        "    \"\"\"Converts columns to appropriate data types.\"\"\"\n",
        "    df_sampled = df_sampled.withColumn(\"searchDate\", to_date(col(\"searchDate\"))) \\\n",
        "                           .withColumn(\"flightDate\", to_date(col(\"flightDate\"))) \\\n",
        "                           .withColumn(\"baseFare\", col(\"baseFare\").cast(\"double\")) \\\n",
        "                           .withColumn(\"totalFare\", col(\"totalFare\").cast(\"double\")) \\\n",
        "                           .withColumn(\"elapsedDays\", col(\"elapsedDays\").cast(\"int\")) \\\n",
        "                           .withColumn(\"seatsRemaining\", col(\"seatsRemaining\").cast(\"int\")) \\\n",
        "                           .withColumn(\"totalTravelDistance\", col(\"totalTravelDistance\").cast(\"int\")) \\\n",
        "                           .withColumn(\"travelDuration\", regexp_replace(col(\"travelDuration\"), \"[^0-9]\", \"\").cast(\"int\"))\\\n",
        "                           .withColumn(\"isBasicEconomy\", when(col(\"isBasicEconomy\") == \"TRUE\", True).otherwise(False)) \\\n",
        "                           .withColumn(\"isRefundable\", when(col(\"isRefundable\") == \"TRUE\", True).otherwise(False)) \\\n",
        "                           .withColumn(\"isNonStop\", when(col(\"isNonStop\") == \"TRUE\", True).otherwise(False))\n",
        "\n",
        "\n",
        "    return df_sampled"
      ],
      "metadata": {
        "id": "1qPk89su-Szl"
      },
      "execution_count": 10,
      "outputs": []
    },
    {
      "cell_type": "code",
      "source": [
        "df_sampled = convert_data_types(df_sampled)"
      ],
      "metadata": {
        "id": "Z0v5wj3X_a3A"
      },
      "execution_count": 11,
      "outputs": []
    },
    {
      "cell_type": "code",
      "source": [
        "def find_segment_columns(df_sampled):\n",
        "    \"\"\"Finds columns containing 'segments' in their names.\"\"\"\n",
        "    segment_columns = [col_name for col_name in df_sampled.columns if \"segments\" in col_name]\n",
        "    return segment_columns"
      ],
      "metadata": {
        "id": "m2958mYaAhxm"
      },
      "execution_count": 12,
      "outputs": []
    },
    {
      "cell_type": "code",
      "source": [
        "segment_cols = find_segment_columns(df_sampled)\n",
        "\n",
        "if segment_cols:\n",
        "    print(\"Columns containing 'segments':\")\n",
        "    for col_name in segment_cols:\n",
        "        print(f\"- {col_name}\")\n",
        "else:\n",
        "    print(\"No columns containing 'segments' found.\")"
      ],
      "metadata": {
        "colab": {
          "base_uri": "https://localhost:8080/"
        },
        "id": "gqXMQdbWBJpG",
        "outputId": "823c7a98-8559-486a-96b5-95369107a049"
      },
      "execution_count": 13,
      "outputs": [
        {
          "output_type": "stream",
          "name": "stdout",
          "text": [
            "Columns containing 'segments':\n",
            "- segmentsArrivalAirportCode\n",
            "- segmentsDepartureAirportCode\n",
            "- segmentsAirlineName\n",
            "- segmentsCabinCode\n"
          ]
        }
      ]
    },
    {
      "cell_type": "code",
      "source": [
        "from pyspark.sql.functions import col, split, size, max as spark_max\n",
        "\n",
        "def split_columns(df, col_name, new_col_prefix):\n",
        "    \"\"\"Splits a column containing values separated by '||' into multiple columns.\"\"\"\n",
        "    if col_name in df.columns:\n",
        "        df = df.withColumn(col_name, split(col(col_name), r\"\\|\\|\"))\n",
        "        max_length = df.agg(spark_max(size(col(col_name)))).collect()[0][0]\n",
        "        new_cols = [col(col_name).getItem(i).alias(f\"{new_col_prefix}_{i+1}\") for i in range(max_length)]\n",
        "        df = df.select(\"*\", *new_cols).drop(col_name)\n",
        "    else:\n",
        "        print(f\"Column '{col_name}' not found in the DataFrame.\")\n",
        "    return df\n",
        "\n",
        "# Applying the function to each segment column\n",
        "for col_name in segment_cols:\n",
        "    new_col_prefix = col_name.replace(\"segments\", \"\").lower()\n",
        "    df_sampled = split_columns(df_sampled, col_name, new_col_prefix)\n",
        "\n",
        "#df_sampled.show(5)"
      ],
      "metadata": {
        "id": "ztbpkMvBGvxS"
      },
      "execution_count": 14,
      "outputs": []
    },
    {
      "cell_type": "code",
      "source": [
        "from pyspark.sql.functions import col, dayofweek, month, weekofyear, datediff, to_date, when, lit, year\n",
        "\n",
        "def feature_engineering(df):\n",
        "    \"\"\"Engineers features from the DataFrame.\"\"\"\n",
        "\n",
        "    # Time-based features for searchDate\n",
        "    df = df.withColumn(\"search_day_of_week\", dayofweek(col(\"searchDate\"))) \\\n",
        "           .withColumn(\"search_month\", month(col(\"searchDate\"))) \\\n",
        "           .withColumn(\"search_week_of_year\", weekofyear(col(\"searchDate\"))) \\\n",
        "           .withColumn(\"search_year\", year(col(\"searchDate\")))\n",
        "\n",
        "    # Time-based features for flightDate\n",
        "    df = df.withColumn(\"flight_day_of_week\", dayofweek(col(\"flightDate\"))) \\\n",
        "           .withColumn(\"flight_month\", month(col(\"flightDate\"))) \\\n",
        "           .withColumn(\"flight_week_of_year\", weekofyear(col(\"flightDate\"))) \\\n",
        "           .withColumn(\"flight_year\", year(col(\"flightDate\")))\n",
        "\n",
        "    # Seasonality for searchDate\n",
        "    df = df.withColumn(\"search_is_winter\", when((col(\"search_month\") == 12) | (col(\"search_month\") == 1) | (col(\"search_month\") == 2), lit(1)).otherwise(lit(0))) \\\n",
        "           .withColumn(\"search_is_summer\", when((col(\"search_month\") >= 6) & (col(\"search_month\") <= 8), lit(1)).otherwise(lit(0))) \\\n",
        "           .withColumn(\"search_is_spring\", when((col(\"search_month\") >= 3) & (col(\"search_month\") <= 5), lit(1)).otherwise(lit(0))) \\\n",
        "           .withColumn(\"search_is_fall\", when((col(\"search_month\") >= 9) & (col(\"search_month\") <= 11), lit(1)).otherwise(lit(0)))\n",
        "\n",
        "    # Seasonality for flightDate\n",
        "    df = df.withColumn(\"flight_is_winter\", when((col(\"flight_month\") == 12) | (col(\"flight_month\") == 1) | (col(\"flight_month\") == 2), lit(1)).otherwise(lit(0))) \\\n",
        "           .withColumn(\"flight_is_summer\", when((col(\"flight_month\") >= 6) & (col(\"flight_month\") <= 8), lit(1)).otherwise(lit(0))) \\\n",
        "           .withColumn(\"flight_is_spring\", when((col(\"flight_month\") >= 3) & (col(\"flight_month\") <= 5), lit(1)).otherwise(lit(0))) \\\n",
        "           .withColumn(\"flight_is_fall\", when((col(\"flight_month\") >= 9) & (col(\"flight_month\") <= 11), lit(1)).otherwise(lit(0)))\n",
        "\n",
        "    # Weekend flags\n",
        "    df = df.withColumn(\"search_is_weekend\", when((col(\"search_day_of_week\") == 1) | (col(\"search_day_of_week\") == 7), lit(1)).otherwise(lit(0))) \\\n",
        "           .withColumn(\"flight_is_weekend\", when((col(\"flight_day_of_week\") == 1) | (col(\"flight_day_of_week\") == 7), lit(1)).otherwise(lit(0)))\n",
        "\n",
        "    # Days until departure\n",
        "    df = df.withColumn(\"days_until_departure\", datediff(col(\"flightDate\"), col(\"searchDate\")))\n",
        "\n",
        "    # Day part (Morning, Afternoon, Evening) - Example using travelDuration\n",
        "    df = df.withColumn(\"departure_hour\", (col(\"travelDuration\")/60).cast(\"int\")) # Rough estimation of departure time\n",
        "    df = df.withColumn(\"day_part\", when((col(\"departure_hour\") >= 6) & (col(\"departure_hour\") < 12), \"Morning\") \\\n",
        "                                    .when((col(\"departure_hour\") >= 12) & (col(\"departure_hour\") < 18), \"Afternoon\") \\\n",
        "                                    .when((col(\"departure_hour\") >= 18) & (col(\"departure_hour\") < 20), \"Evening\") \\\n",
        "                                    .otherwise(\"Night\"))\n",
        "    df = df.drop(\"departure_hour\")\n",
        "\n",
        "    return df"
      ],
      "metadata": {
        "id": "Yr0UXsBLS_CR"
      },
      "execution_count": 15,
      "outputs": []
    },
    {
      "cell_type": "code",
      "source": [
        "df_sampled = feature_engineering(df_sampled)\n",
        "# df_sampled.printSchema()\n",
        "# df_sampled.select(\"flight_month\").distinct().show()"
      ],
      "metadata": {
        "id": "xO7N4ovtj0kN"
      },
      "execution_count": 16,
      "outputs": []
    },
    {
      "cell_type": "code",
      "source": [
        "columns_to_drop = [\"searchDate\", \"flightDate\"]\n",
        "df_sampled = df_sampled.drop(*columns_to_drop)\n",
        "# df_sampled.printSchema() # Verify the columns are dropped"
      ],
      "metadata": {
        "id": "0avfb-5Bl-Vu"
      },
      "execution_count": 17,
      "outputs": []
    },
    {
      "cell_type": "code",
      "source": [
        "from pyspark.sql.functions import when\n",
        "\n",
        "df_sampled = df_sampled.withColumn(\"distance_bin\",\n",
        "                   when(col(\"totalTravelDistance\") < 500, \"Short Haul\")\n",
        "                   .when((col(\"totalTravelDistance\") >= 500) & (col(\"totalTravelDistance\") < 2000), \"Medium Haul\")\n",
        "                   .otherwise(\"Long Haul\"))"
      ],
      "metadata": {
        "id": "GkT9wkoNnHEM"
      },
      "execution_count": 18,
      "outputs": []
    },
    {
      "cell_type": "code",
      "source": [
        "from pyspark.sql.functions import col, when, lit\n",
        "\n",
        "def calculate_layovers(df):\n",
        "    \"\"\"Calculates the number of layovers based on segment data.\"\"\"\n",
        "\n",
        "    # Find the maximum segment number dynamically\n",
        "    max_segment = max([int(c.split(\"_\")[-1]) for c in df.columns if \"arrivalairportcode_\" in c])\n",
        "\n",
        "    df = df.withColumn(\"num_segments\", lit(0))\n",
        "    for i in range(1, max_segment + 1):\n",
        "        df = df.withColumn(\"num_segments\", when(col(f\"arrivalairportcode_{i}\").isNotNull(), col(\"num_segments\") + 1).otherwise(col(\"num_segments\")))\n",
        "\n",
        "    df = df.withColumn(\"num_layovers\", when(col(\"num_segments\") > 0, col(\"num_segments\") - 1).otherwise(0))\n",
        "\n",
        "    df = df.drop(\"num_segments\")\n",
        "    return df"
      ],
      "metadata": {
        "id": "xfZAv-hFnlUd"
      },
      "execution_count": 19,
      "outputs": []
    },
    {
      "cell_type": "code",
      "source": [
        "df_sampled = calculate_layovers(df_sampled)\n",
        "# df_sampled.printSchema()\n",
        "# df_sampled.show(5)"
      ],
      "metadata": {
        "id": "jNEKh1EVnm2y"
      },
      "execution_count": 20,
      "outputs": []
    },
    {
      "cell_type": "code",
      "source": [
        "from pyspark.sql.functions import col, when, lit, log\n",
        "\n",
        "def price_feature_engineering(df):\n",
        "    df = df.withColumn(\"fare_difference\", col(\"totalFare\") - col(\"baseFare\"))\n",
        "    df = df.withColumn(\"fare_ratio\", when(col(\"baseFare\") != 0, col(\"totalFare\") / col(\"baseFare\")).otherwise(lit(0)))\n",
        "    df = df.withColumn(\"price_per_mile\", when(col(\"totalTravelDistance\") != 0, col(\"totalFare\") / col(\"totalTravelDistance\")).otherwise(lit(0)))\n",
        "    df = df.withColumn(\"seats_remaining_x_total_fare\", col(\"seatsRemaining\") * col(\"totalFare\"))\n",
        "    df = df.withColumn(\"days_until_departure_x_total_fare\", col(\"days_until_departure\") * col(\"totalFare\"))\n",
        "    df = df.withColumn(\"Flight_is_weekend_x_total_fare\", col(\"flight_is_weekend\") * col(\"totalFare\"))\n",
        "    return df\n",
        "\n"
      ],
      "metadata": {
        "id": "CvzHJwlFpytQ"
      },
      "execution_count": 21,
      "outputs": []
    },
    {
      "cell_type": "code",
      "source": [
        "df_sampled = price_feature_engineering(df_sampled)\n",
        "# df_sampled.printSchema()\n",
        "# df_sampled.show(5)"
      ],
      "metadata": {
        "id": "WorzQo1-p0uv"
      },
      "execution_count": 22,
      "outputs": []
    },
    {
      "cell_type": "code",
      "source": [
        "from pyspark.sql.functions import concat_ws\n",
        "\n",
        "def create_leg_routes(df):\n",
        "    max_segment = max([int(c.split(\"_\")[-1]) for c in df.columns if \"arrivalairportcode_\" in c])\n",
        "    for i in range(1, max_segment + 1):\n",
        "        df = df.withColumn(f\"leg_route_{i}\", concat_ws(\"-\", col(f\"departureairportcode_{i}\"), col(f\"arrivalairportcode_{i}\")))\n",
        "    return df\n",
        "\n",
        "df_sampled = create_leg_routes(df_sampled)\n",
        "# df_sampled.show(5)"
      ],
      "metadata": {
        "id": "bz4hU7fGvPar"
      },
      "execution_count": 23,
      "outputs": []
    },
    {
      "cell_type": "code",
      "source": [
        "from pyspark.sql.functions import concat_ws, collect_list, array_sort, array\n",
        "\n",
        "def create_airline_combinations(df):\n",
        "    max_segment = max([int(c.split(\"_\")[-1]) for c in df.columns if \"airlinename_\" in c])\n",
        "    df = df.withColumn(\"airline_combination\", array_sort(array(*[col(f\"airlinename_{i}\") for i in range(1, max_segment + 1)])))\n",
        "    df = df.withColumn(\"airline_combination\", concat_ws(\"-\", col(\"airline_combination\")))\n",
        "    return df\n",
        "\n",
        "df_sampled = create_airline_combinations(df_sampled)\n",
        "# df_sampled.show(5)"
      ],
      "metadata": {
        "id": "Rxv0P4SyvYrN"
      },
      "execution_count": 24,
      "outputs": []
    },
    {
      "cell_type": "code",
      "source": [
        "columns_to_drop = [\n",
        "    \"arrivalairportcode_1\", \"arrivalairportcode_2\", \"arrivalairportcode_3\", \"arrivalairportcode_4\",\n",
        "    \"departureairportcode_1\", \"departureairportcode_2\", \"departureairportcode_3\", \"departureairportcode_4\",\n",
        "    \"airlinename_1\", \"airlinename_2\", \"airlinename_3\", \"airlinename_4\"]\n",
        "df_sampled = df_sampled.drop(*columns_to_drop)\n",
        "# df_sampled.printSchema()"
      ],
      "metadata": {
        "id": "UkiIiHlmyLLU"
      },
      "execution_count": 25,
      "outputs": []
    },
    {
      "cell_type": "code",
      "source": [
        "from pyspark.sql.functions import col, collect_list, array_distinct, explode\n",
        "\n",
        "def get_unique_cabin_codes(df):\n",
        "    \"\"\"Gets all unique cabin codes from segmented cabin code columns.\"\"\"\n",
        "    cabin_code_cols = [c for c in df.columns if \"cabincode_\" in c]\n",
        "    if not cabin_code_cols:\n",
        "        print(\"No cabin code columns found.\")\n",
        "        return []\n",
        "\n",
        "    unique_codes_df = df.select(explode(array_distinct(array(*[col(c) for c in cabin_code_cols])))).distinct()\n",
        "\n",
        "    unique_codes = [row[0] for row in unique_codes_df.collect()]\n",
        "    return unique_codes\n",
        "\n",
        "unique_cabin_codes = get_unique_cabin_codes(df_sampled)\n",
        "print(f\"Unique Cabin Codes: {unique_cabin_codes}\")"
      ],
      "metadata": {
        "colab": {
          "base_uri": "https://localhost:8080/"
        },
        "id": "TrjEPZLTw8xU",
        "outputId": "444a9bde-cf89-4aa0-9fd4-72e6bf44af77"
      },
      "execution_count": 26,
      "outputs": [
        {
          "output_type": "stream",
          "name": "stdout",
          "text": [
            "Unique Cabin Codes: ['coach', 'premium coach', 'business', 'first', None]\n"
          ]
        }
      ]
    },
    {
      "cell_type": "code",
      "source": [
        "from pyspark.sql.functions import when, lit, greatest, least\n",
        "\n",
        "def create_cabin_class_features(df):\n",
        "    \"\"\"Creates cabin class features (highest, lowest, changes).\"\"\"\n",
        "\n",
        "    unique_cabin_codes = ['coach', 'premium coach', 'business', 'first', None]\n",
        "    max_segment = max([int(c.split(\"_\")[-1]) for c in df.columns if \"cabincode_\" in c])\n",
        "\n",
        "    # Create a mapping from cabin code to index\n",
        "    cabin_code_map = {code: i + 1 for i, code in enumerate(unique_cabin_codes) if code is not None}\n",
        "    cabin_code_map[None] = 0\n",
        "\n",
        "    # Highest Cabin Class - This Creates a feature that indicates the highest cabin class flown on any segment of the flight\n",
        "    df = df.withColumn(\"highest_cabin_class_index\", lit(0))\n",
        "    for i in range(1, max_segment + 1):\n",
        "        df = df.withColumn(f\"cabincode_{i}_index\", lit(cabin_code_map.get(None)))\n",
        "        for code, index in cabin_code_map.items():\n",
        "            df = df.withColumn(f\"cabincode_{i}_index\", when(col(f\"cabincode_{i}\") == code, index).otherwise(col(f\"cabincode_{i}_index\")))\n",
        "        df = df.withColumn(\"highest_cabin_class_index\", greatest(col(\"highest_cabin_class_index\"), col(f\"cabincode_{i}_index\")))\n",
        "        df = df.drop(f\"cabincode_{i}_index\")\n",
        "\n",
        "    df = df.withColumn(\"highest_cabin_class\", lit(None).cast(\"string\"))\n",
        "    for code, index in cabin_code_map.items():\n",
        "        df = df.withColumn(\"highest_cabin_class\", when(col(\"highest_cabin_class_index\") == index, code).otherwise(col(\"highest_cabin_class\")))\n",
        "\n",
        "    df = df.drop(\"highest_cabin_class_index\")\n",
        "\n",
        "    # Lowest Cabin Class - This creates a feature that indicates the lowest cabin class flown\n",
        "    df = df.withColumn(\"lowest_cabin_class_index\", lit(len(unique_cabin_codes)))\n",
        "    for i in range(1, max_segment + 1):\n",
        "        df = df.withColumn(f\"cabincode_{i}_index\", lit(cabin_code_map.get(None)))\n",
        "        for code, index in cabin_code_map.items():\n",
        "            df = df.withColumn(f\"cabincode_{i}_index\", when(col(f\"cabincode_{i}\") == code, index).otherwise(col(f\"cabincode_{i}_index\")))\n",
        "        df = df.withColumn(\"lowest_cabin_class_index\", least(col(\"lowest_cabin_class_index\"), col(f\"cabincode_{i}_index\")))\n",
        "        df = df.drop(f\"cabincode_{i}_index\")\n",
        "\n",
        "    df = df.withColumn(\"lowest_cabin_class\", lit(None).cast(\"string\"))\n",
        "    for code, index in cabin_code_map.items():\n",
        "        df = df.withColumn(\"lowest_cabin_class\", when(col(\"lowest_cabin_class_index\") == index, code).otherwise(col(\"lowest_cabin_class\")))\n",
        "    df = df.drop(\"lowest_cabin_class_index\")\n",
        "\n",
        "    # Cabin Class Changes - This Creates features that count the number of times the cabin class changes during the journey\n",
        "    df = df.withColumn(\"cabin_class_changes\", lit(0))\n",
        "    for i in range(1, max_segment):\n",
        "        df = df.withColumn(f\"cabincode_{i}_index\", lit(cabin_code_map.get(None)))\n",
        "        for code, index in cabin_code_map.items():\n",
        "            df = df.withColumn(f\"cabincode_{i}_index\", when(col(f\"cabincode_{i}\") == code, index).otherwise(col(f\"cabincode_{i}_index\")))\n",
        "        df = df.withColumn(f\"cabincode_{i+1}_index\", lit(cabin_code_map.get(None)))\n",
        "        for code, index in cabin_code_map.items():\n",
        "            df = df.withColumn(f\"cabincode_{i+1}_index\", when(col(f\"cabincode_{i+1}\") == code, index).otherwise(col(f\"cabincode_{i+1}_index\")))\n",
        "        df = df.withColumn(\"cabin_class_changes\", col(\"cabin_class_changes\") + when(col(f\"cabincode_{i}_index\") != col(f\"cabincode_{i+1}_index\"),1).otherwise(0))\n",
        "        df = df.drop(f\"cabincode_{i}_index\", f\"cabincode_{i+1}_index\")\n",
        "    return df\n",
        "\n",
        "df_sampled = create_cabin_class_features(df_sampled)\n",
        "\n",
        "# df_sampled.show(5)\n",
        "# df_sampled.printSchema()"
      ],
      "metadata": {
        "id": "vg6heslKxNUt"
      },
      "execution_count": 27,
      "outputs": []
    },
    {
      "cell_type": "code",
      "source": [
        "columns_to_drop = [\"cabincode_1\", \"cabincode_2\", \"cabincode_3\", \"cabincode_4\"]\n",
        "df_sampled = df_sampled.drop(*columns_to_drop)"
      ],
      "metadata": {
        "id": "O8eApn3wxSNZ"
      },
      "execution_count": 28,
      "outputs": []
    },
    {
      "cell_type": "code",
      "source": [
        "output_path = \"/content/de_output\"\n",
        "\n",
        "# DataFrame to Parquet\n",
        "df_sampled.coalesce(1).write.mode(\"overwrite\").parquet(output_path)"
      ],
      "metadata": {
        "id": "zXz731RRRfP1"
      },
      "execution_count": 29,
      "outputs": []
    }
  ]
}